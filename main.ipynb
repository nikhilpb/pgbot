{
 "cells": [
  {
   "cell_type": "code",
   "execution_count": 1,
   "id": "de07ab7a",
   "metadata": {},
   "outputs": [
    {
     "name": "stderr",
     "output_type": "stream",
     "text": [
      "/Users/kritikakaul/opt/anaconda3/envs/pgbot/lib/python3.10/site-packages/tqdm/auto.py:22: TqdmWarning: IProgress not found. Please update jupyter and ipywidgets. See https://ipywidgets.readthedocs.io/en/stable/user_install.html\n",
      "  from .autonotebook import tqdm as notebook_tqdm\n"
     ]
    }
   ],
   "source": [
    "import pgbot\n",
    "import torch\n",
    "import torch.nn as nn"
   ]
  },
  {
   "cell_type": "code",
   "execution_count": 2,
   "id": "fa583f32",
   "metadata": {},
   "outputs": [],
   "source": [
    "all_pages = pgbot.load_essay_pages()"
   ]
  },
  {
   "cell_type": "code",
   "execution_count": 3,
   "id": "a1e99591",
   "metadata": {},
   "outputs": [],
   "source": [
    "(ngrams_train, ngrams_valid, ngrams_test), vocab = pgbot.generate_ngrams(all_pages)\n",
    "model = pgbot.NGramLanguageModeler(len(vocab), pgbot.EMBED_SIZE, pgbot.CONTEXT_SIZE)\n",
    "model_path = 'models/ngram-model'\n",
    "model.load_state_dict(torch.load(model_path))\n",
    "loss_function = nn.NLLLoss()"
   ]
  },
  {
   "cell_type": "code",
   "execution_count": 4,
   "id": "e2f146b5",
   "metadata": {},
   "outputs": [
    {
     "name": "stdout",
     "output_type": "stream",
     "text": [
      "training_loss: 3.90, validation_loss: 4.19\n"
     ]
    }
   ],
   "source": [
    "training_loss = pgbot.calculate_loss(ngrams_train, vocab, model, loss_function)\n",
    "valid_loss = pgbot.calculate_loss(ngrams_valid, vocab, model, loss_function)\n",
    "print(f'training_loss: {training_loss:.2f}, validation_loss: {valid_loss:.2f}')\n"
   ]
  },
  {
   "cell_type": "code",
   "execution_count": 7,
   "id": "7cfaefef",
   "metadata": {},
   "outputs": [
    {
     "name": "stdout",
     "output_type": "stream",
     "text": [
      "Ive just like and the founders who evolved that all the hiring this sort talking what we tend to be in writing, and own.\n",
      "\n",
      "The most seem a way to know whats not everyone to work like whatever\n",
      "\n",
      "So most other guys are nice in the same way you dont understand your sentence at many people replaced in an essay, will get using a startup.\n",
      "\n",
      "A trick as I dont.\n",
      "\n",
      "Which means out one in other people should be software to them, investors out in any dangerous you do other two way to miss practically for example.\n",
      "\n",
      "If the ones you start a description a lot like a deal with everyone and you what they do.\n",
      "\n",
      "Its almost every initial necessarily his real talked about the way to other startups shouldnt push to do I have some big startups, and when you get your experience.\n",
      "\n",
      "March average you want to get it, you could get rich.\n",
      "\n",
      "If youre Y Combinator.\n",
      "\n",
      "People work prefer Id you may find these lack of it? One of startups behind a new, now false with.\n",
      "\n"
     ]
    }
   ],
   "source": [
    "for i in range(10):\n",
    "    print(pgbot.generate_sentence(model, vocab))\n",
    "    print('')"
   ]
  },
  {
   "cell_type": "code",
   "execution_count": null,
   "id": "38b92e82",
   "metadata": {},
   "outputs": [],
   "source": []
  }
 ],
 "metadata": {
  "kernelspec": {
   "display_name": "Python 3 (ipykernel)",
   "language": "python",
   "name": "python3"
  },
  "language_info": {
   "codemirror_mode": {
    "name": "ipython",
    "version": 3
   },
   "file_extension": ".py",
   "mimetype": "text/x-python",
   "name": "python",
   "nbconvert_exporter": "python",
   "pygments_lexer": "ipython3",
   "version": "3.10.6"
  }
 },
 "nbformat": 4,
 "nbformat_minor": 5
}
